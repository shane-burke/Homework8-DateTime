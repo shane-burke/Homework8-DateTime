{
 "cells": [
  {
   "cell_type": "markdown",
   "metadata": {},
   "source": [
    "# Cryptocurrency prices\n",
    "\n",
    "* **Filename:**  `cryptocurrencies.csv`\n",
    "* **Description:** Cryptocurrency prices for a handful of coins over time.\n",
    "* **Source:** https://coinmarketcap.com/all/views/all/ but from a million years ago (I cut and pasted, honestly)\n",
    "\n",
    "### Make a chart of bitcoin's high, on a weekly basis\n",
    "\n",
    "You might want to do the cherry blossoms homework first, or at least read the part about `format=` and `pd.to_datetime`.\n",
    "\n",
    "*Yes, that's the entire assignment. It isn't an exciting dataset, but it's just dirty enough to make charting this a useful experience.*"
   ]
  },
  {
   "cell_type": "code",
   "execution_count": 1,
   "metadata": {},
   "outputs": [
    {
     "name": "stderr",
     "output_type": "stream",
     "text": [
      "/Users/shaneburke/.pyenv/versions/3.8.2/lib/python3.8/site-packages/pandas/compat/__init__.py:120: UserWarning: Could not import the lzma module. Your installed Python is incomplete. Attempting to use lzma compression will result in a RuntimeError.\n",
      "  warnings.warn(msg)\n"
     ]
    },
    {
     "data": {
      "text/html": [
       "<div>\n",
       "<style scoped>\n",
       "    .dataframe tbody tr th:only-of-type {\n",
       "        vertical-align: middle;\n",
       "    }\n",
       "\n",
       "    .dataframe tbody tr th {\n",
       "        vertical-align: top;\n",
       "    }\n",
       "\n",
       "    .dataframe thead th {\n",
       "        text-align: right;\n",
       "    }\n",
       "</style>\n",
       "<table border=\"1\" class=\"dataframe\">\n",
       "  <thead>\n",
       "    <tr style=\"text-align: right;\">\n",
       "      <th></th>\n",
       "      <th>date</th>\n",
       "      <th>open</th>\n",
       "      <th>high</th>\n",
       "      <th>low</th>\n",
       "      <th>close</th>\n",
       "      <th>volume</th>\n",
       "      <th>market_cap</th>\n",
       "      <th>coin</th>\n",
       "    </tr>\n",
       "  </thead>\n",
       "  <tbody>\n",
       "    <tr>\n",
       "      <th>0</th>\n",
       "      <td>12-Feb-18</td>\n",
       "      <td>8,141.43</td>\n",
       "      <td>8,985.92</td>\n",
       "      <td>8,141.43</td>\n",
       "      <td>8,926.57</td>\n",
       "      <td>6,256,440,000</td>\n",
       "      <td>137,258,000,000</td>\n",
       "      <td>BTC</td>\n",
       "    </tr>\n",
       "    <tr>\n",
       "      <th>1</th>\n",
       "      <td>11-Feb-18</td>\n",
       "      <td>8,616.13</td>\n",
       "      <td>8,616.13</td>\n",
       "      <td>7,931.10</td>\n",
       "      <td>8,129.97</td>\n",
       "      <td>6,122,190,000</td>\n",
       "      <td>145,245,000,000</td>\n",
       "      <td>BTC</td>\n",
       "    </tr>\n",
       "    <tr>\n",
       "      <th>2</th>\n",
       "      <td>10-Feb-18</td>\n",
       "      <td>8,720.08</td>\n",
       "      <td>9,122.55</td>\n",
       "      <td>8,295.47</td>\n",
       "      <td>8,621.90</td>\n",
       "      <td>7,780,960,000</td>\n",
       "      <td>146,981,000,000</td>\n",
       "      <td>BTC</td>\n",
       "    </tr>\n",
       "    <tr>\n",
       "      <th>3</th>\n",
       "      <td>9-Feb-18</td>\n",
       "      <td>8,271.84</td>\n",
       "      <td>8,736.98</td>\n",
       "      <td>7,884.71</td>\n",
       "      <td>8,736.98</td>\n",
       "      <td>6,784,820,000</td>\n",
       "      <td>139,412,000,000</td>\n",
       "      <td>BTC</td>\n",
       "    </tr>\n",
       "    <tr>\n",
       "      <th>4</th>\n",
       "      <td>8-Feb-18</td>\n",
       "      <td>7,637.86</td>\n",
       "      <td>8,558.77</td>\n",
       "      <td>7,637.86</td>\n",
       "      <td>8,265.59</td>\n",
       "      <td>9,346,750,000</td>\n",
       "      <td>128,714,000,000</td>\n",
       "      <td>BTC</td>\n",
       "    </tr>\n",
       "    <tr>\n",
       "      <th>...</th>\n",
       "      <td>...</td>\n",
       "      <td>...</td>\n",
       "      <td>...</td>\n",
       "      <td>...</td>\n",
       "      <td>...</td>\n",
       "      <td>...</td>\n",
       "      <td>...</td>\n",
       "      <td>...</td>\n",
       "    </tr>\n",
       "    <tr>\n",
       "      <th>360</th>\n",
       "      <td>17-Feb-17</td>\n",
       "      <td>1,026.12</td>\n",
       "      <td>1,053.17</td>\n",
       "      <td>1,025.64</td>\n",
       "      <td>1,046.21</td>\n",
       "      <td>136,474,000</td>\n",
       "      <td>16,589,600,000</td>\n",
       "      <td>BTC</td>\n",
       "    </tr>\n",
       "    <tr>\n",
       "      <th>361</th>\n",
       "      <td>16-Feb-17</td>\n",
       "      <td>1,007.65</td>\n",
       "      <td>1,033.37</td>\n",
       "      <td>1,007.65</td>\n",
       "      <td>1,027.44</td>\n",
       "      <td>122,277,000</td>\n",
       "      <td>16,289,100,000</td>\n",
       "      <td>BTC</td>\n",
       "    </tr>\n",
       "    <tr>\n",
       "      <th>362</th>\n",
       "      <td>15-Feb-17</td>\n",
       "      <td>1,006.21</td>\n",
       "      <td>1,008.84</td>\n",
       "      <td>1,001.58</td>\n",
       "      <td>1,007.48</td>\n",
       "      <td>89,759,400</td>\n",
       "      <td>16,264,100,000</td>\n",
       "      <td>BTC</td>\n",
       "    </tr>\n",
       "    <tr>\n",
       "      <th>363</th>\n",
       "      <td>14-Feb-17</td>\n",
       "      <td>991.74</td>\n",
       "      <td>1,011.51</td>\n",
       "      <td>986.47</td>\n",
       "      <td>1,004.55</td>\n",
       "      <td>137,946,000</td>\n",
       "      <td>16,028,000,000</td>\n",
       "      <td>BTC</td>\n",
       "    </tr>\n",
       "    <tr>\n",
       "      <th>364</th>\n",
       "      <td>13-Feb-17</td>\n",
       "      <td>998.89</td>\n",
       "      <td>1,002.10</td>\n",
       "      <td>976</td>\n",
       "      <td>990.64</td>\n",
       "      <td>100,607,000</td>\n",
       "      <td>16,141,500,000</td>\n",
       "      <td>BTC</td>\n",
       "    </tr>\n",
       "  </tbody>\n",
       "</table>\n",
       "<p>365 rows × 8 columns</p>\n",
       "</div>"
      ],
      "text/plain": [
       "          date      open      high       low     close         volume  \\\n",
       "0    12-Feb-18  8,141.43  8,985.92  8,141.43  8,926.57  6,256,440,000   \n",
       "1    11-Feb-18  8,616.13  8,616.13  7,931.10  8,129.97  6,122,190,000   \n",
       "2    10-Feb-18  8,720.08  9,122.55  8,295.47  8,621.90  7,780,960,000   \n",
       "3     9-Feb-18  8,271.84  8,736.98  7,884.71  8,736.98  6,784,820,000   \n",
       "4     8-Feb-18  7,637.86  8,558.77  7,637.86  8,265.59  9,346,750,000   \n",
       "..         ...       ...       ...       ...       ...            ...   \n",
       "360  17-Feb-17  1,026.12  1,053.17  1,025.64  1,046.21    136,474,000   \n",
       "361  16-Feb-17  1,007.65  1,033.37  1,007.65  1,027.44    122,277,000   \n",
       "362  15-Feb-17  1,006.21  1,008.84  1,001.58  1,007.48     89,759,400   \n",
       "363  14-Feb-17    991.74  1,011.51    986.47  1,004.55    137,946,000   \n",
       "364  13-Feb-17    998.89  1,002.10       976    990.64    100,607,000   \n",
       "\n",
       "          market_cap coin  \n",
       "0    137,258,000,000  BTC  \n",
       "1    145,245,000,000  BTC  \n",
       "2    146,981,000,000  BTC  \n",
       "3    139,412,000,000  BTC  \n",
       "4    128,714,000,000  BTC  \n",
       "..               ...  ...  \n",
       "360   16,589,600,000  BTC  \n",
       "361   16,289,100,000  BTC  \n",
       "362   16,264,100,000  BTC  \n",
       "363   16,028,000,000  BTC  \n",
       "364   16,141,500,000  BTC  \n",
       "\n",
       "[365 rows x 8 columns]"
      ]
     },
     "execution_count": 1,
     "metadata": {},
     "output_type": "execute_result"
    }
   ],
   "source": [
    "import pandas as pd\n",
    "from pprintpp import pprint as pp\n",
    "import numpy as np \n",
    "\n",
    "df = pd.read_csv(\"cryptocurrencies.csv\")\n",
    "df_bitcoin = df[df.coin == \"BTC\"]\n",
    "df_bitcoin"
   ]
  },
  {
   "cell_type": "code",
   "execution_count": 2,
   "metadata": {},
   "outputs": [
    {
     "name": "stderr",
     "output_type": "stream",
     "text": [
      "/Users/shaneburke/.pyenv/versions/3.8.2/lib/python3.8/site-packages/pandas/core/generic.py:5168: SettingWithCopyWarning: \n",
      "A value is trying to be set on a copy of a slice from a DataFrame.\n",
      "Try using .loc[row_indexer,col_indexer] = value instead\n",
      "\n",
      "See the caveats in the documentation: https://pandas.pydata.org/pandas-docs/stable/user_guide/indexing.html#returning-a-view-versus-a-copy\n",
      "  self[name] = value\n"
     ]
    }
   ],
   "source": [
    "#Put date to datetime\n",
    "df_bitcoin.date = pd.to_datetime(df_bitcoin.date)"
   ]
  },
  {
   "cell_type": "code",
   "execution_count": 3,
   "metadata": {},
   "outputs": [],
   "source": [
    "#Get rid of commas in the high column so we can change its type to float\n",
    "df_bitcoin.high = df_bitcoin.high.str.replace(\",\", \"\")\n",
    "\n",
    "#Change to float\n",
    "df_bitcoin.high = df_bitcoin.high.astype(float)"
   ]
  },
  {
   "cell_type": "code",
   "execution_count": 4,
   "metadata": {},
   "outputs": [
    {
     "data": {
      "text/plain": [
       "date          datetime64[ns]\n",
       "open                  object\n",
       "high                 float64\n",
       "low                   object\n",
       "close                 object\n",
       "volume                object\n",
       "market_cap            object\n",
       "coin                  object\n",
       "dtype: object"
      ]
     },
     "execution_count": 4,
     "metadata": {},
     "output_type": "execute_result"
    }
   ],
   "source": [
    "#Verify the column types\n",
    "df_bitcoin.dtypes"
   ]
  },
  {
   "cell_type": "code",
   "execution_count": 5,
   "metadata": {},
   "outputs": [],
   "source": [
    "#Set the index to date\n",
    "df_bitcoin = df_bitcoin.set_index('date')"
   ]
  },
  {
   "cell_type": "code",
   "execution_count": 6,
   "metadata": {},
   "outputs": [],
   "source": [
    "#df_bitcoin to verify it all looks right"
   ]
  },
  {
   "cell_type": "code",
   "execution_count": 7,
   "metadata": {},
   "outputs": [
    {
     "name": "stdout",
     "output_type": "stream",
     "text": [
      "Max Weekly Bitcoin Price, February 2018 to March 2018\n"
     ]
    },
    {
     "data": {
      "text/plain": [
       "<AxesSubplot:xlabel='date'>"
      ]
     },
     "execution_count": 7,
     "metadata": {},
     "output_type": "execute_result"
    },
    {
     "data": {
      "image/png": "[encoded data removed]",
      "text/plain": [
       "<Figure size 432x288 with 1 Axes>"
      ]
     },
     "metadata": {
      "needs_background": "light"
     },
     "output_type": "display_data"
    }
   ],
   "source": [
    "print(\"Max Weekly Bitcoin Price, February 2018 to March 2018\")\n",
    "df_bitcoin.resample('W').high.max().plot()"
   ]
  }
 ],
 "metadata": {
  "kernelspec": {
   "display_name": "Python 3",
   "language": "python",
   "name": "python3"
  },
  "language_info": {
   "codemirror_mode": {
    "name": "ipython",
    "version": 3
   },
   "file_extension": ".py",
   "mimetype": "text/x-python",
   "name": "python",
   "nbconvert_exporter": "python",
   "pygments_lexer": "ipython3",
   "version": "3.8.2"
  }
 },
 "nbformat": 4,
 "nbformat_minor": 2
}
